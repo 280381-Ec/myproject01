{
 "cells": [
  {
   "cell_type": "code",
   "execution_count": null,
   "id": "8f119d4a",
   "metadata": {},
   "outputs": [],
   "source": [
    "import duckdb"
   ]
  },
  {
   "cell_type": "code",
   "execution_count": null,
   "id": "c4cc5e02",
   "metadata": {},
   "outputs": [],
   "source": [
    "con = duckdb.connect(database='dados_duckdb.db', read_only=False)"
   ]
  },
  {
   "cell_type": "code",
   "execution_count": null,
   "id": "e256045c",
   "metadata": {},
   "outputs": [],
   "source": [
    "df = con.execute(\"SELECT * FROM produtos\").fetchdf()\n",
    "df.head(10)"
   ]
  },
  {
   "cell_type": "code",
   "execution_count": null,
   "id": "13363524",
   "metadata": {},
   "outputs": [],
   "source": [
    "df2 = df.drop(columns=['id_categoria', 'id_fornecedor'])\n",
    "df2.head(10)"
   ]
  },
  {
   "cell_type": "code",
   "execution_count": null,
   "id": "77fb305d",
   "metadata": {},
   "outputs": [],
   "source": [
    "con.execute(\"\"\"\n",
    "    DROP TABLE dim_produtos\n",
    "\"\"\")"
   ]
  },
  {
   "cell_type": "code",
   "execution_count": null,
   "id": "c778739c",
   "metadata": {},
   "outputs": [],
   "source": [
    "con.execute(\"\"\"\n",
    "    CREATE TABLE IF NOT EXISTS dim_produtos (\n",
    "        id_produto BIGINT,\n",
    "        nm_produto TEXT,\n",
    "        vl_produto FLOAT\n",
    "            )\n",
    "\"\"\")"
   ]
  },
  {
   "cell_type": "code",
   "execution_count": null,
   "id": "43cd1b55",
   "metadata": {},
   "outputs": [],
   "source": [
    "df2.head(10)"
   ]
  },
  {
   "cell_type": "code",
   "execution_count": null,
   "id": "5d50f66b",
   "metadata": {},
   "outputs": [],
   "source": [
    "con.execute(\"INSERT INTO dim_produtos SELECT * FROM df2\")"
   ]
  },
  {
   "cell_type": "code",
   "execution_count": null,
   "id": "d10f7ffc",
   "metadata": {},
   "outputs": [],
   "source": [
    "df_dim = con.execute(\"SELECT * FROM dim_produtos\").fetchdf()\n",
    "df_dim.head(10)"
   ]
  },
  {
   "cell_type": "code",
   "execution_count": 17,
   "id": "be9850f3",
   "metadata": {},
   "outputs": [],
   "source": [
    "con.close()"
   ]
  }
 ],
 "metadata": {
  "kernelspec": {
   "display_name": "Python 3",
   "language": "python",
   "name": "python3"
  },
  "language_info": {
   "codemirror_mode": {
    "name": "ipython",
    "version": 3
   },
   "file_extension": ".py",
   "mimetype": "text/x-python",
   "name": "python",
   "nbconvert_exporter": "python",
   "pygments_lexer": "ipython3",
   "version": "3.13.5"
  }
 },
 "nbformat": 4,
 "nbformat_minor": 5
}
