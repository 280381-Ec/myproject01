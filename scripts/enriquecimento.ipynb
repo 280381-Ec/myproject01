{
 "cells": [
  {
   "cell_type": "code",
   "execution_count": null,
   "id": "6ec9dc1f",
   "metadata": {},
   "outputs": [],
   "source": [
    "import duckdb"
   ]
  },
  {
   "cell_type": "code",
   "execution_count": null,
   "id": "361e885c",
   "metadata": {},
   "outputs": [],
   "source": [
    "con = duckdb.connect(database='dados_duckdb.db', read_only=False)"
   ]
  },
  {
   "cell_type": "code",
   "execution_count": null,
   "id": "ab5da966",
   "metadata": {},
   "outputs": [],
   "source": [
    "con.execute(\"SELECT * FROM bronze_z0019\")"
   ]
  },
  {
   "cell_type": "code",
   "execution_count": null,
   "id": "ccb7c84b",
   "metadata": {},
   "outputs": [],
   "source": [
    "df = con.execute(\"SELECT * FROM bronze_z0019\").fetchdf()\n",
    "df.head()"
   ]
  },
  {
   "cell_type": "code",
   "execution_count": null,
   "id": "9d2308d5",
   "metadata": {},
   "outputs": [],
   "source": [
    "df.columns"
   ]
  },
  {
   "cell_type": "code",
   "execution_count": null,
   "id": "bad0bc5b",
   "metadata": {},
   "outputs": [],
   "source": [
    "df_final = df.drop(columns=['nome_arquivo', 'data_ingestao'])\n",
    "df_final.head()\n"
   ]
  },
  {
   "cell_type": "code",
   "execution_count": null,
   "id": "39a7d75a",
   "metadata": {},
   "outputs": [],
   "source": [
    "df = con.execute(\"\"\"\n",
    "                 SELECT *\n",
    "                 FROM (\n",
    "                    SELECT *, ROW_NUMBER() OVER (PARTITION BY NATBR ORDER BY data_ingestao DESC) AS row\n",
    "                    FROM bronze_z0019\n",
    "                    WHERE data_ingestao >= '2025-01-11'\n",
    "                 ) WHERE row = 1\n",
    "                 \"\"\").fetchdf()\n",
    "df.head(10)"
   ]
  },
  {
   "cell_type": "code",
   "execution_count": null,
   "id": "f01a5ba1",
   "metadata": {},
   "outputs": [],
   "source": [
    "df.head(10)"
   ]
  },
  {
   "cell_type": "code",
   "execution_count": null,
   "id": "426014da",
   "metadata": {},
   "outputs": [],
   "source": [
    "df.drop(columns=['nome_arquivo', 'data_ingestao', 'run'], inplace=True)\n",
    "\n",
    "df.head(10)"
   ]
  },
  {
   "cell_type": "code",
   "execution_count": null,
   "id": "e796f27d",
   "metadata": {},
   "outputs": [],
   "source": [
    "colunas_para_remover = ['nome_arquivo', 'data_ingestão','row']"
   ]
  },
  {
   "cell_type": "code",
   "execution_count": null,
   "id": "c3536466",
   "metadata": {},
   "outputs": [],
   "source": [
    "colunas_existentes = [col for col in\n",
    "colunas_para_remover if col in df.columns]"
   ]
  },
  {
   "cell_type": "code",
   "execution_count": null,
   "id": "ba9f36ae",
   "metadata": {},
   "outputs": [],
   "source": [
    "df.drop(columns=colunas_existentes, inplace=True)"
   ]
  },
  {
   "cell_type": "code",
   "execution_count": null,
   "id": "c3e1e2bb",
   "metadata": {},
   "outputs": [],
   "source": [
    "df.head()"
   ]
  },
  {
   "cell_type": "code",
   "execution_count": null,
   "id": "531eac4d",
   "metadata": {},
   "outputs": [],
   "source": [
    "df_final = df.drop(columns=['nome_arquivo','data_ingestao','row'])\n",
    "\n",
    "df_final.head(10)"
   ]
  },
  {
   "cell_type": "code",
   "execution_count": null,
   "id": "309fcc5e",
   "metadata": {},
   "outputs": [],
   "source": [
    "df_final = df.copy()"
   ]
  },
  {
   "cell_type": "code",
   "execution_count": null,
   "id": "9309ce9e",
   "metadata": {},
   "outputs": [],
   "source": [
    "df_final.head()"
   ]
  },
  {
   "cell_type": "code",
   "execution_count": null,
   "id": "bb042a39",
   "metadata": {},
   "outputs": [],
   "source": [
    "df_final.drop(columns=['data_ingestao'],inplace=True)"
   ]
  },
  {
   "cell_type": "code",
   "execution_count": null,
   "id": "dbbce6e2",
   "metadata": {},
   "outputs": [],
   "source": [
    "df_final.head()"
   ]
  },
  {
   "cell_type": "code",
   "execution_count": null,
   "id": "bef55c13",
   "metadata": {},
   "outputs": [],
   "source": [
    "print(df_final.columns)"
   ]
  },
  {
   "cell_type": "code",
   "execution_count": null,
   "id": "0a6cdef8",
   "metadata": {},
   "outputs": [],
   "source": [
    "df_final.columns = df_final.columns.str.strip()"
   ]
  },
  {
   "cell_type": "code",
   "execution_count": null,
   "id": "0e15977a",
   "metadata": {},
   "outputs": [],
   "source": [
    "df_final.dtypes"
   ]
  },
  {
   "cell_type": "code",
   "execution_count": null,
   "id": "32d26a38",
   "metadata": {},
   "outputs": [],
   "source": [
    "df_final = df_final.rename(columns={\"NATBR\":\"id\"})\n",
    "df_final = df_final.rename(columns={\"MAKTX\":\"nm_produto\"})\n",
    "df_final = df_final.rename(columns={\"WERKS\":\"id_categoria\"})\n",
    "df_final = df_final.rename(columns={\"MAINS\":\"id_fornecedor\"})\n",
    "df_final = df_final.rename(columns={\"LABST\":\"vl_preco\"})\n",
    "df_final.head(10)"
   ]
  },
  {
   "cell_type": "code",
   "execution_count": null,
   "id": "612f7f1e",
   "metadata": {},
   "outputs": [],
   "source": [
    "df2 = df_final.astype({\n",
    "        'ID': 'int32', # <- corrigido\n",
    "        'nm_produto': 'string',\n",
    "        'id_categoria': 'string',\n",
    "        'id_fornecedor': 'int32',\n",
    "        'vl_preco': 'float32'\n",
    "})\n",
    "df2.head(10)"
   ]
  },
  {
   "cell_type": "code",
   "execution_count": null,
   "id": "d5f62847",
   "metadata": {},
   "outputs": [],
   "source": [
    "df_final.columns = df_final.columns.str.lower()"
   ]
  },
  {
   "cell_type": "code",
   "execution_count": null,
   "id": "a5abea28",
   "metadata": {},
   "outputs": [],
   "source": [
    "df2 = df_final.astype({\n",
    "        'id': int,\n",
    "        'nm_produto': str,\n",
    "        'id_categoria': str,\n",
    "        'id_fornecedor': int,\n",
    "        'vl_preco': float\n",
    "})\n",
    "\n",
    "df2.dtypes\n",
    "#df2.head(10)"
   ]
  },
  {
   "cell_type": "code",
   "execution_count": null,
   "id": "17af10e3",
   "metadata": {},
   "outputs": [],
   "source": [
    "con.execute(\"\"\"\n",
    "CREATE TABLE IF NOT EXISTS produtos (\n",
    "            id BIGINT,\n",
    "            nm_produto TEXT,\n",
    "            id_fornecedor BIGINT,\n",
    "            vl_preco FLOAT\n",
    "            )\n",
    "\"\"\")"
   ]
  },
  {
   "cell_type": "code",
   "execution_count": null,
   "id": "584c441c",
   "metadata": {},
   "outputs": [],
   "source": [
    "df2.head(10)"
   ]
  },
  {
   "cell_type": "code",
   "execution_count": null,
   "id": "ccdaf2c1",
   "metadata": {},
   "outputs": [],
   "source": [
    "con.execute(\"INSERT INTO produtos SELECT * from df2\")"
   ]
  },
  {
   "cell_type": "code",
   "execution_count": null,
   "id": "d58b52ff",
   "metadata": {},
   "outputs": [],
   "source": [
    "df_resultado = con.execute(\"select * from produtos\").fetchdf()\n",
    "df_resultado.head(10)"
   ]
  },
  {
   "cell_type": "code",
   "execution_count": null,
   "id": "d5040b2c",
   "metadata": {},
   "outputs": [],
   "source": [
    "df2_filtrado = df2[['id', 'nm_produto', 'id_fornecedor', 'vl_preco']]"
   ]
  },
  {
   "cell_type": "code",
   "execution_count": null,
   "id": "b6d2f384",
   "metadata": {},
   "outputs": [],
   "source": [
    "con.execute(\"INSERT INTO produtos SELECT * FROM df2_filtrado\")"
   ]
  },
  {
   "cell_type": "code",
   "execution_count": null,
   "id": "cbb354af",
   "metadata": {},
   "outputs": [],
   "source": [
    "df_resultado = con.execute(\"SELECT * FROM produtos\").fetchdf()\n",
    "df_resultado.head(10)"
   ]
  },
  {
   "cell_type": "code",
   "execution_count": null,
   "id": "14aa8762",
   "metadata": {},
   "outputs": [],
   "source": [
    "con.execute(\"DROP TABLE IF EXISTS produtos\")"
   ]
  },
  {
   "cell_type": "code",
   "execution_count": null,
   "id": "badc31bd",
   "metadata": {},
   "outputs": [],
   "source": [
    "con.execute(\"\"\"\n",
    "    CREATE TABLE produtos (\n",
    "        id INTEGER,\n",
    "        nm_produto STRING,\n",
    "        id_categoria STRING,\n",
    "        id_fornecedor INTEGER,\n",
    "        vl_preco FLOAT\n",
    "    )\n",
    "\"\"\")"
   ]
  },
  {
   "cell_type": "code",
   "execution_count": null,
   "id": "a6476e7f",
   "metadata": {},
   "outputs": [],
   "source": [
    "con.execute(\"INSERT INTO produtos SELECT * FROM df2\")"
   ]
  },
  {
   "cell_type": "code",
   "execution_count": null,
   "id": "a2c949e5",
   "metadata": {},
   "outputs": [],
   "source": [
    "df_resultado = con.execute(\"SELECT * FROM produtos\").fetchdf()\n",
    "df_resultado.head(10)"
   ]
  },
  {
   "cell_type": "code",
   "execution_count": null,
   "id": "2ab90117",
   "metadata": {},
   "outputs": [],
   "source": [
    "con.close()"
   ]
  }
 ],
 "metadata": {
  "kernelspec": {
   "display_name": "Python 3",
   "language": "python",
   "name": "python3"
  },
  "language_info": {
   "codemirror_mode": {
    "name": "ipython",
    "version": 3
   },
   "file_extension": ".py",
   "mimetype": "text/x-python",
   "name": "python",
   "nbconvert_exporter": "python",
   "pygments_lexer": "ipython3",
   "version": "3.13.5"
  }
 },
 "nbformat": 4,
 "nbformat_minor": 5
}
