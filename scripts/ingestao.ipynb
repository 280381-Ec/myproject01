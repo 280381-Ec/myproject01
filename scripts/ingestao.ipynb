{
 "cells": [
  {
   "cell_type": "code",
   "execution_count": null,
   "id": "ab7c9b8a",
   "metadata": {},
   "outputs": [],
   "source": [
    "import duckdb\n",
    "import pandas as pd\n",
    "import os\n",
    "from datetime import datetime"
   ]
  },
  {
   "cell_type": "code",
   "execution_count": null,
   "id": "ff612115",
   "metadata": {},
   "outputs": [],
   "source": [
    "con = duckdb.connect(database='dados_duck.db', read_only=False) "
   ]
  },
  {
   "cell_type": "code",
   "execution_count": null,
   "id": "7330358f",
   "metadata": {},
   "outputs": [],
   "source": [
    "con.execute(\"DROP TABLE IF EXISTS bronze_z0019;\")"
   ]
  },
  {
   "cell_type": "code",
   "execution_count": null,
   "id": "f8f762a0",
   "metadata": {},
   "outputs": [],
   "source": [
    "con.execute(\"\"\"\n",
    "CREATE TABLE bronze_z0019 AS\n",
    "SELECT *, 'z0019_1.csv' AS nome_arquivo, CURRENT_TIMESTAMP AS data_ingestao, 1 AS row\n",
    "FROM read_csv_auto('../landing/z0019_1.csv')\n",
    "UNION ALL\n",
    "SELECT *, 'z0019_2.csv' AS nome_arquivo, CURRENT_TIMESTAMP AS data_ingestao, 1 AS row\n",
    "FROM read_csv_auto('../landing/z0019_2.csv')\n",
    "\"\"\")"
   ]
  },
  {
   "cell_type": "code",
   "execution_count": null,
   "id": "d972c14c",
   "metadata": {},
   "outputs": [],
   "source": [
    "con.execute(\"\"\"\n",
    "DROP TABLE IF EXISTS bronze_z0019\n",
    "\"\"\")"
   ]
  },
  {
   "cell_type": "code",
   "execution_count": null,
   "id": "2c48df19",
   "metadata": {},
   "outputs": [],
   "source": [
    "con.execute(\"DROP TABLE IF EXISTS bronze_z0019\")"
   ]
  },
  {
   "cell_type": "code",
   "execution_count": null,
   "id": "848a03dc",
   "metadata": {},
   "outputs": [],
   "source": [
    "con.execute(\"\"\"\n",
    "    CREATE TABLE bronze_z0019 AS\n",
    "    SELECT *, 'z0019_1.csv' AS nome_arquivo, CURRENT_TIMESTAMP AS data_ingestao\n",
    "    FROM read_csv_auto('../landing/z0019_1.csv')\n",
    "    UNION ALL\n",
    "    SELECT *, 'z0019_2.csv' AS nome_arquivo, CURRENT_TIMESTAMP AS data_ingestao\n",
    "    FROM read_csv_auto('../landing/z0019_2.csv')\n",
    "\"\"\")"
   ]
  },
  {
   "cell_type": "code",
   "execution_count": null,
   "id": "23f220fe",
   "metadata": {},
   "outputs": [],
   "source": [
    "df = con.execute(\"SELECT * FROM bronze_z0019\").fetchdf()\n",
    "df.head(10)\n"
   ]
  },
  {
   "cell_type": "code",
   "execution_count": null,
   "id": "973ad70f",
   "metadata": {},
   "outputs": [],
   "source": [
    "con.execute(\"CHECKPOINT;\")"
   ]
  },
  {
   "cell_type": "code",
   "execution_count": null,
   "id": "045f4abf",
   "metadata": {},
   "outputs": [],
   "source": [
    "import os\n",
    "print(\"Caminho atual:\", os.getcwd())\n",
    "print(\"Arquivos em 'landing/':\", os.listdir())"
   ]
  },
  {
   "cell_type": "code",
   "execution_count": null,
   "id": "23f33859",
   "metadata": {},
   "outputs": [],
   "source": [
    "con.close()"
   ]
  },
  {
   "cell_type": "code",
   "execution_count": null,
   "id": "74602ac8",
   "metadata": {},
   "outputs": [],
   "source": [
    "con.execute(\"DROP TABLE IF EXISTS bronze_z0019\")"
   ]
  },
  {
   "cell_type": "code",
   "execution_count": null,
   "id": "7b5b4ea3",
   "metadata": {},
   "outputs": [],
   "source": [
    "'landing/z0019_1.csv'"
   ]
  },
  {
   "cell_type": "code",
   "execution_count": null,
   "id": "d5081bd4",
   "metadata": {},
   "outputs": [],
   "source": [
    "con.execute(\"DROP TABLE IF EXISTS bronze_z0019\")\n",
    "\n",
    "con.execute(\"\"\"\n",
    "    CREATE TABLE bronze_z0019 AS\n",
    "    SELECT *, 'z0019_1.csv' AS nome_arquivo, CURRENT_TIMESTAMP AS data_ingestao\n",
    "    FROM read_csv_auto('landing/z0019_1.csv')\n",
    "    UNION ALL\n",
    "    SELECT *, 'z0019_2.csv' AS nome_arquivo, CURRENT_TIMESTAMP AS data_ingestao\n",
    "    FROM read_csv_auto('landing/z0019_2.csv')\n",
    "\"\"\")"
   ]
  },
  {
   "cell_type": "code",
   "execution_count": null,
   "id": "7bdcf339",
   "metadata": {},
   "outputs": [],
   "source": [
    "import os\n",
    "\n",
    "# Ver o caminho atual onde o notebook está rodando\n",
    "print(\"Caminho atual:\", os.getcwd())\n",
    "\n",
    "# Ver o que existe dentro da pasta \"landing\"\n",
    "print(\"Arquivos em 'landing/':\", os.listdir('landing'))"
   ]
  },
  {
   "cell_type": "code",
   "execution_count": null,
   "id": "c4363d9a",
   "metadata": {},
   "outputs": [],
   "source": [
    "'../landing/z0019_1.csv'\n",
    "'../landing/z0019_2.csv'"
   ]
  },
  {
   "cell_type": "code",
   "execution_count": null,
   "id": "ef7a0113",
   "metadata": {},
   "outputs": [],
   "source": [
    "df = con.execute(\"SELECT * FROM bronze_z0019\").fetchdf()\n",
    "df.head(10)"
   ]
  },
  {
   "cell_type": "code",
   "execution_count": null,
   "id": "5326be6f",
   "metadata": {},
   "outputs": [],
   "source": [
    "con.execute(\"DROP TABLE IF EXISTS bronze_z0019\")\n",
    "\n",
    "con.execute(\"\"\"\n",
    "    CREATE TABLE bronze_z0019 AS\n",
    "    SELECT *, 'z0019_1.csv' AS nome_arquivo, CURRENT_TIMESTAMP AS data_ingestao\n",
    "    FROM read_csv_auto('../landing/z0019_1.csv')\n",
    "    UNION ALL\n",
    "    SELECT *, 'z0019_2.csv' AS nome_arquivo, CURRENT_TIMESTAMP AS data_ingestao\n",
    "    FROM read_csv_auto('../landing/z0019_2.csv')\n",
    "\"\"\")"
   ]
  },
  {
   "cell_type": "code",
   "execution_count": null,
   "id": "f4e7dec8",
   "metadata": {},
   "outputs": [],
   "source": [
    "con.execute(\"\"\"\n",
    "    CREATE TABLE bronze_z0019 AS\n",
    "    SELECT *, 'z0019_1.csv' AS nome_arquivo, CURRENT_TIMESTAMP AS data_ingestao\n",
    "    FROM read_csv_auto('landing/z0019_1.csv')\n",
    "    UNION ALL\n",
    "    SELECT *, 'z0019_2.csv' AS nome_arquivo, CURRENT_TIMESTAMP AS data_ingestao\n",
    "    FROM read_csv_auto('landing/z0019_2.csv')\n",
    "\"\"\")"
   ]
  },
  {
   "cell_type": "code",
   "execution_count": null,
   "id": "3fffc06f",
   "metadata": {},
   "outputs": [],
   "source": [
    "df = pd.read_csv('../landing/z0019_1.csv', sep=';')\n"
   ]
  },
  {
   "cell_type": "code",
   "execution_count": null,
   "id": "95fd3d09",
   "metadata": {},
   "outputs": [],
   "source": [
    "df.head()"
   ]
  },
  {
   "cell_type": "code",
   "execution_count": null,
   "id": "6bf550fd",
   "metadata": {},
   "outputs": [],
   "source": [
    "arquivo = 'z0019_1.csv'\n",
    "df = pd.read_csv(f'../landing/{arquivo}', sep=';')\n",
    "df.head()"
   ]
  },
  {
   "cell_type": "code",
   "execution_count": null,
   "id": "81d619e2",
   "metadata": {},
   "outputs": [],
   "source": [
    "print(datetime.now())"
   ]
  },
  {
   "cell_type": "code",
   "execution_count": null,
   "id": "028e3b05",
   "metadata": {},
   "outputs": [],
   "source": [
    "arquivo = 'z0019_2.csv'\n",
    "data_ingestao = datetime.now()\n",
    "df = pd.read_csv(f'../landing/{arquivo}', sep=';')\n",
    "df['nome_arquivo'] = arquivo\n",
    "df['data_ingestao'] = data_ingestao\n",
    "df.head()"
   ]
  },
  {
   "cell_type": "code",
   "execution_count": null,
   "id": "986ebd45",
   "metadata": {},
   "outputs": [],
   "source": [
    "con.execute(\"\"\"\n",
    "    CREATE TABLE IF NOT EXISTS bronze_produtos (\n",
    "        NATBR VARCHAR,\n",
    "        MAKTX VARCHAR,\n",
    "        WERKS VARCHAR,\n",
    "        MAINS VARCHAR,\n",
    "        LABST VARCHAR,\n",
    "        nome_arquivo VARCHAR,\n",
    "        data_ingestao TIMESTAMP\n",
    "    )\n",
    "\"\"\")"
   ]
  },
  {
   "cell_type": "code",
   "execution_count": null,
   "id": "d17afa15",
   "metadata": {},
   "outputs": [],
   "source": [
    "con.execute(\"INSERT INTO bronze_produtos SELECT * FROM df\")"
   ]
  },
  {
   "cell_type": "code",
   "execution_count": null,
   "id": "d751fd46",
   "metadata": {},
   "outputs": [],
   "source": [
    "resultado = con.execute(\"SELECT * FROM bronze_z0019\").fetchdf()\n",
    "resultado.head(6)"
   ]
  },
  {
   "cell_type": "code",
   "execution_count": null,
   "id": "d20300c9",
   "metadata": {},
   "outputs": [],
   "source": [
    "con.execute(\"ALTER TABLE bronze_produtos RENAME TO bronze_z0019\")"
   ]
  },
  {
   "cell_type": "code",
   "execution_count": null,
   "id": "736b470f",
   "metadata": {},
   "outputs": [],
   "source": [
    "con.close()"
   ]
  }
 ],
 "metadata": {
  "kernelspec": {
   "display_name": "Python 3",
   "language": "python",
   "name": "python3"
  },
  "language_info": {
   "codemirror_mode": {
    "name": "ipython",
    "version": 3
   },
   "file_extension": ".py",
   "mimetype": "text/x-python",
   "name": "python",
   "nbconvert_exporter": "python",
   "pygments_lexer": "ipython3",
   "version": "3.13.5"
  }
 },
 "nbformat": 4,
 "nbformat_minor": 5
}
